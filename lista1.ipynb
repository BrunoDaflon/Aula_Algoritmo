{
 "cells": [
  {
   "cell_type": "code",
   "execution_count": 1,
   "metadata": {},
   "outputs": [
    {
     "name": "stdout",
     "output_type": "stream",
     "text": [
      "Olá, mundo!\n"
     ]
    }
   ],
   "source": [
    "# 1\n",
    "print(\"Olá, mundo!\")"
   ]
  },
  {
   "cell_type": "code",
   "execution_count": 12,
   "metadata": {},
   "outputs": [
    {
     "name": "stdout",
     "output_type": "stream",
     "text": [
      "10.0\n"
     ]
    }
   ],
   "source": [
    "# 2\n",
    "def soma(a,b):\n",
    "    return a + b\n",
    "\n",
    "a = float(input(\"Digite o primeiro número: \"))\n",
    "b = float(input(\"Digite o segundo número: \"))\n",
    "resultado = soma(a,b)\n",
    "print(resultado)"
   ]
  },
  {
   "cell_type": "code",
   "execution_count": 18,
   "metadata": {},
   "outputs": [
    {
     "name": "stdout",
     "output_type": "stream",
     "text": [
      "8 é um número par.\n"
     ]
    }
   ],
   "source": [
    "# 3\n",
    "def par_impar(pi):\n",
    "    if pi % 2 ==0:\n",
    "        return (f\"{pi} é um número par.\")\n",
    "    else:\n",
    "        return (f\"{pi} é um número impar.\")\n",
    "pi = int(input(\"Digite um número inteiro: \"))\n",
    "result = par_impar(pi)\n",
    "print(result)"
   ]
  },
  {
   "cell_type": "code",
   "execution_count": 23,
   "metadata": {},
   "outputs": [
    {
     "name": "stdout",
     "output_type": "stream",
     "text": [
      "20.0\n"
     ]
    }
   ],
   "source": [
    "# 4\n",
    "def calculadora(primeiro, segundo, operador):\n",
    "    if operador == \"+\":\n",
    "        return primeiro + segundo\n",
    "    elif operador == \"-\":\n",
    "        return primeiro - segundo\n",
    "    elif operador == \"*\":\n",
    "        return primeiro * segundo\n",
    "    elif operador:\n",
    "        primeiro / segundo\n",
    "    else:\n",
    "        return \"Operador inválido.\"    \n",
    "\n",
    "primeiro = float(input(\"Insira o primeiro número: \"))\n",
    "segundo = float(input(\"Insira o outro número: \"))\n",
    "operador = input(\"Insira a operação desejada? (+, -, *, /): \")\n",
    "conta = calculadora(primeiro,segundo,operador)\n",
    "print(conta)\n"
   ]
  },
  {
   "cell_type": "code",
   "execution_count": 6,
   "metadata": {},
   "outputs": [
    {
     "name": "stdout",
     "output_type": "stream",
     "text": [
      "6.333333333333333\n"
     ]
    }
   ],
   "source": [
    "# 5\n",
    "nota_1 = float(input(\"Insira a primeira nota: \"))\n",
    "nota_2 = float(input(\"Insira a segunda nota: \"))\n",
    "nota_3 = float(input(\"Insira a terceira nota: \"))\n",
    "media = nota_1 + nota_2 + nota_3\n",
    "resultado = media / 3\n",
    "print(resultado)\n"
   ]
  },
  {
   "cell_type": "code",
   "execution_count": 10,
   "metadata": {},
   "outputs": [
    {
     "name": "stdout",
     "output_type": "stream",
     "text": [
      "A converção de 36.0°C para Fahrenheit é =  96.8\n"
     ]
    }
   ],
   "source": [
    "# 6\n",
    "temperatura = float(input(\"Insira a temperatura de grau °C: \"))\n",
    "fahrenheit = (temperatura * 1.8) + 32\n",
    "print(f\"A converção de {temperatura}°C para Fahrenheit é = \",fahrenheit)"
   ]
  },
  {
   "cell_type": "code",
   "execution_count": 11,
   "metadata": {},
   "outputs": [
    {
     "name": "stdout",
     "output_type": "stream",
     "text": [
      "O fatorial de 5 é 120\n"
     ]
    }
   ],
   "source": [
    "# 7\n",
    "def fatorar(numero):\n",
    "    resultado = 1\n",
    "    for i in range(1, numero +1):\n",
    "        resultado *=i\n",
    "    return resultado\n",
    "numero = int(input(\"Insira um número: \"))\n",
    "resultado = fatorar(numero)\n",
    "print(\"O fatorial de\", numero , \"é\", resultado)"
   ]
  },
  {
   "cell_type": "code",
   "execution_count": null,
   "metadata": {},
   "outputs": [],
   "source": [
    "# 8\n",
    "def impares(comeco, fim):\n",
    "    for numero in range(comeco,fim+1):\n",
    "        if numero % 2 != 0:\n",
    "            print(numero)\n",
    "impares(1,100)\n"
   ]
  },
  {
   "cell_type": "code",
   "execution_count": null,
   "metadata": {},
   "outputs": [],
   "source": [
    "#9\n",
    "def num_primo(numero):\n",
    "    if numero <= 1:\n",
    "        return False\n",
    "    for i in range(2,int(numero**0.5)+1):\n",
    "        if numero % i ==0:\n",
    "            return False\n",
    "    return True\n",
    "numero_primo = int(input(\"Insira um número: \"))\n",
    "if num_primo(numero_primo):\n",
    "    print(f\"{numero_primo} é primo\")\n",
    "else:\n",
    "    print(f\"{numero_primo} não é primo\")\n"
   ]
  },
  {
   "cell_type": "code",
   "execution_count": null,
   "metadata": {},
   "outputs": [],
   "source": [
    "#10\n",
    "palavra = input(\"Insira uma String: \")\n",
    "print(palavra[::-1])\n"
   ]
  },
  {
   "cell_type": "code",
   "execution_count": null,
   "metadata": {},
   "outputs": [],
   "source": [
    "#11\n",
    "def tabuada(numero):\n",
    "    for i in range(1,11):\n",
    "        resultado = numero * i\n",
    "        print(f\"{numero} x {i} = {resultado}\")\n",
    "numero_escolhido = int(input(\"Insira um número: \"))\n",
    "tabuada(numero_escolhido)"
   ]
  },
  {
   "cell_type": "code",
   "execution_count": null,
   "metadata": {},
   "outputs": [],
   "source": [
    "#12"
   ]
  },
  {
   "cell_type": "code",
   "execution_count": null,
   "metadata": {},
   "outputs": [],
   "source": [
    "#13\n",
    "lista = [1,2,3,4,5,6,7,8,9,10]\n",
    "soma_lista = sum(lista)\n",
    "soma = 0\n",
    "for i in range(soma_lista +1):\n",
    "    soma += i\n",
    "   \n",
    "print(i)"
   ]
  }
 ],
 "metadata": {
  "kernelspec": {
   "display_name": "Python 3",
   "language": "python",
   "name": "python3"
  },
  "language_info": {
   "codemirror_mode": {
    "name": "ipython",
    "version": 3
   },
   "file_extension": ".py",
   "mimetype": "text/x-python",
   "name": "python",
   "nbconvert_exporter": "python",
   "pygments_lexer": "ipython3",
   "version": "3.11.9"
  }
 },
 "nbformat": 4,
 "nbformat_minor": 2
}
